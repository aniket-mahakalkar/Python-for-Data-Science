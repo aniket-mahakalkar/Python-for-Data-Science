{
 "cells": [
  {
   "cell_type": "markdown",
   "id": "27b81d53-576e-406d-bdb5-b9d435f53460",
   "metadata": {},
   "source": [
    "# Operations on 'Numpy Array'"
   ]
  },
  {
   "cell_type": "code",
   "execution_count": 1,
   "id": "6348d06b-bd00-4c28-b0e6-0dc19921073d",
   "metadata": {},
   "outputs": [],
   "source": [
    "import numpy as np"
   ]
  },
  {
   "cell_type": "code",
   "execution_count": 2,
   "id": "880804b6-6417-4acb-a6cc-994b55922660",
   "metadata": {},
   "outputs": [],
   "source": [
    "array = np.arange(0,11)"
   ]
  },
  {
   "cell_type": "code",
   "execution_count": 3,
   "id": "01ecc593-0649-4eae-aba3-dc5338d5b987",
   "metadata": {},
   "outputs": [
    {
     "data": {
      "text/plain": [
       "array([ 0,  1,  2,  3,  4,  5,  6,  7,  8,  9, 10])"
      ]
     },
     "execution_count": 3,
     "metadata": {},
     "output_type": "execute_result"
    }
   ],
   "source": [
    "array"
   ]
  },
  {
   "cell_type": "markdown",
   "id": "4bd20fa7-1e7d-4d85-94dc-2673ed83920c",
   "metadata": {},
   "source": [
    "# Using Indexing to extract out values \n",
    "\n"
   ]
  },
  {
   "cell_type": "code",
   "execution_count": 4,
   "id": "ce5448af-b70f-468a-9914-d89c26237bf0",
   "metadata": {},
   "outputs": [
    {
     "data": {
      "text/plain": [
       "6"
      ]
     },
     "execution_count": 4,
     "metadata": {},
     "output_type": "execute_result"
    }
   ],
   "source": [
    "array[6]"
   ]
  },
  {
   "cell_type": "code",
   "execution_count": 5,
   "id": "6fa6f380-b3cd-4211-8f18-9d55e5073eaa",
   "metadata": {},
   "outputs": [
    {
     "data": {
      "text/plain": [
       "array([6])"
      ]
     },
     "execution_count": 5,
     "metadata": {},
     "output_type": "execute_result"
    }
   ],
   "source": [
    "array[6:7]"
   ]
  },
  {
   "cell_type": "code",
   "execution_count": 6,
   "id": "8899fa79-471a-43ec-bf80-b61dbf170135",
   "metadata": {},
   "outputs": [
    {
     "data": {
      "text/plain": [
       "array([ 0,  1,  2,  3,  4,  5,  6,  7,  8,  9, 10])"
      ]
     },
     "execution_count": 6,
     "metadata": {},
     "output_type": "execute_result"
    }
   ],
   "source": [
    "array[:]"
   ]
  },
  {
   "cell_type": "code",
   "execution_count": 7,
   "id": "935fc3ad-7a61-433b-b64b-9847e14349d0",
   "metadata": {},
   "outputs": [
    {
     "data": {
      "text/plain": [
       "array([0, 1, 2, 3, 4])"
      ]
     },
     "execution_count": 7,
     "metadata": {},
     "output_type": "execute_result"
    }
   ],
   "source": [
    "array[:5]"
   ]
  },
  {
   "cell_type": "code",
   "execution_count": 8,
   "id": "e99955f8-3e8d-4efe-82a7-adcfb200ba6a",
   "metadata": {},
   "outputs": [
    {
     "data": {
      "text/plain": [
       "array([ 4,  5,  6,  7,  8,  9, 10])"
      ]
     },
     "execution_count": 8,
     "metadata": {},
     "output_type": "execute_result"
    }
   ],
   "source": [
    "array[4:]"
   ]
  },
  {
   "cell_type": "markdown",
   "id": "46100f36-78a0-49ed-92cb-81b36a58ea07",
   "metadata": {},
   "source": [
    "# 2d Numpy Array"
   ]
  },
  {
   "cell_type": "code",
   "execution_count": 9,
   "id": "0811838c-440e-4a7e-81b7-e8e32acbe3ff",
   "metadata": {},
   "outputs": [],
   "source": [
    "array_2d = np.array(([1,2,3],[4,5,6],[7,8,9]))"
   ]
  },
  {
   "cell_type": "code",
   "execution_count": 10,
   "id": "14f9d0c7-3c6f-4e8b-b86e-91547709457f",
   "metadata": {},
   "outputs": [
    {
     "data": {
      "text/plain": [
       "array([[1, 2, 3],\n",
       "       [4, 5, 6],\n",
       "       [7, 8, 9]])"
      ]
     },
     "execution_count": 10,
     "metadata": {},
     "output_type": "execute_result"
    }
   ],
   "source": [
    "array_2d"
   ]
  },
  {
   "cell_type": "code",
   "execution_count": 11,
   "id": "abccb7c9-741b-47ca-b9ae-cb7a92047b9d",
   "metadata": {},
   "outputs": [
    {
     "data": {
      "text/plain": [
       "array([1, 2, 3])"
      ]
     },
     "execution_count": 11,
     "metadata": {},
     "output_type": "execute_result"
    }
   ],
   "source": [
    "array_2d[0]"
   ]
  },
  {
   "cell_type": "code",
   "execution_count": 12,
   "id": "0ab80236-6073-4408-99be-942808d5cbad",
   "metadata": {},
   "outputs": [
    {
     "data": {
      "text/plain": [
       "2"
      ]
     },
     "execution_count": 12,
     "metadata": {},
     "output_type": "execute_result"
    }
   ],
   "source": [
    "#array[print single row]\n",
    "#array[rows,columns]\n",
    "array_2d[0,1]"
   ]
  },
  {
   "cell_type": "code",
   "execution_count": 13,
   "id": "2f9def42-4153-447d-a939-b91af8b81d6e",
   "metadata": {},
   "outputs": [
    {
     "data": {
      "text/plain": [
       "9"
      ]
     },
     "execution_count": 13,
     "metadata": {},
     "output_type": "execute_result"
    }
   ],
   "source": [
    "array_2d[2,2]"
   ]
  },
  {
   "cell_type": "code",
   "execution_count": 14,
   "id": "62b03e52-fdd3-4c53-8aac-dd9a161afae2",
   "metadata": {},
   "outputs": [
    {
     "data": {
      "text/plain": [
       "array([[5, 6],\n",
       "       [8, 9]])"
      ]
     },
     "execution_count": 14,
     "metadata": {},
     "output_type": "execute_result"
    }
   ],
   "source": [
    "array_2d[1:,1:]"
   ]
  },
  {
   "cell_type": "code",
   "execution_count": 15,
   "id": "566cfa53-4b18-49da-adbb-e734de8cf578",
   "metadata": {},
   "outputs": [
    {
     "data": {
      "text/plain": [
       "array([[2, 3],\n",
       "       [5, 6]])"
      ]
     },
     "execution_count": 15,
     "metadata": {},
     "output_type": "execute_result"
    }
   ],
   "source": [
    "array_2d[:2,1:]"
   ]
  },
  {
   "cell_type": "markdown",
   "id": "50ba47d3-b2a5-496d-a1c0-b460e5df2512",
   "metadata": {},
   "source": [
    "# Operations\n",
    "\n",
    "**Boolean**"
   ]
  },
  {
   "cell_type": "code",
   "execution_count": 16,
   "id": "6f2e8316-2f3f-4451-b611-8a66d46439ab",
   "metadata": {},
   "outputs": [
    {
     "data": {
      "text/plain": [
       "array([ 0,  1,  2,  3,  4,  5,  6,  7,  8,  9, 10])"
      ]
     },
     "execution_count": 16,
     "metadata": {},
     "output_type": "execute_result"
    }
   ],
   "source": [
    "array"
   ]
  },
  {
   "cell_type": "code",
   "execution_count": 17,
   "id": "1a6a4507-24b1-4acf-baba-0a541a68a285",
   "metadata": {},
   "outputs": [
    {
     "data": {
      "text/plain": [
       "array([False, False, False, False, False,  True,  True,  True,  True,\n",
       "        True,  True])"
      ]
     },
     "execution_count": 17,
     "metadata": {},
     "output_type": "execute_result"
    }
   ],
   "source": [
    "array > 4"
   ]
  },
  {
   "cell_type": "code",
   "execution_count": 18,
   "id": "c426ef8d-7c8f-4b96-8b00-1e15891e8b4c",
   "metadata": {},
   "outputs": [],
   "source": [
    "new_boolean_array = array > 4"
   ]
  },
  {
   "cell_type": "code",
   "execution_count": 19,
   "id": "ff663342-8b75-4605-89d3-8abdfb5295c4",
   "metadata": {},
   "outputs": [
    {
     "data": {
      "text/plain": [
       "array([False, False, False, False, False,  True,  True,  True,  True,\n",
       "        True,  True])"
      ]
     },
     "execution_count": 19,
     "metadata": {},
     "output_type": "execute_result"
    }
   ],
   "source": [
    "new_boolean_array"
   ]
  },
  {
   "cell_type": "code",
   "execution_count": 20,
   "id": "f5510fbd-b3f0-4620-b39b-c35d271ffcc4",
   "metadata": {},
   "outputs": [
    {
     "data": {
      "text/plain": [
       "array([ 5,  6,  7,  8,  9, 10])"
      ]
     },
     "execution_count": 20,
     "metadata": {},
     "output_type": "execute_result"
    }
   ],
   "source": [
    "array[new_boolean_array]"
   ]
  },
  {
   "cell_type": "markdown",
   "id": "8fe712f1-dc6e-4143-8b02-a482c78007c8",
   "metadata": {},
   "source": [
    "**Arithmetic Operations**"
   ]
  },
  {
   "cell_type": "code",
   "execution_count": 21,
   "id": "a3146ae1-ced3-4f3a-893b-ee5e38d5dd39",
   "metadata": {},
   "outputs": [
    {
     "data": {
      "text/plain": [
       "array([0, 1, 2, 3, 4, 5])"
      ]
     },
     "execution_count": 21,
     "metadata": {},
     "output_type": "execute_result"
    }
   ],
   "source": [
    "new_array = np.arange(0,6)\n",
    "new_array"
   ]
  },
  {
   "cell_type": "code",
   "execution_count": 22,
   "id": "bd0173e2-778d-4e92-bfc6-f5604ec80c56",
   "metadata": {},
   "outputs": [
    {
     "data": {
      "text/plain": [
       "array([ 0,  2,  4,  6,  8, 10])"
      ]
     },
     "execution_count": 22,
     "metadata": {},
     "output_type": "execute_result"
    }
   ],
   "source": [
    "new_array + new_array"
   ]
  },
  {
   "cell_type": "code",
   "execution_count": 23,
   "id": "5714eb43-5ddb-4530-a389-689ead054dc5",
   "metadata": {},
   "outputs": [
    {
     "data": {
      "text/plain": [
       "array([0, 0, 0, 0, 0, 0])"
      ]
     },
     "execution_count": 23,
     "metadata": {},
     "output_type": "execute_result"
    }
   ],
   "source": [
    "new_array - new_array"
   ]
  },
  {
   "cell_type": "code",
   "execution_count": 24,
   "id": "2ad908a6-c1c6-480e-a3b4-c0a58c5e34be",
   "metadata": {},
   "outputs": [
    {
     "data": {
      "text/plain": [
       "array([ 0,  2,  4,  6,  8, 10])"
      ]
     },
     "execution_count": 24,
     "metadata": {},
     "output_type": "execute_result"
    }
   ],
   "source": [
    "new_array * 2"
   ]
  },
  {
   "cell_type": "code",
   "execution_count": 25,
   "id": "752116aa-66b5-4487-adf3-66eae79301df",
   "metadata": {},
   "outputs": [
    {
     "data": {
      "text/plain": [
       "array([0. , 0.5, 1. , 1.5, 2. , 2.5])"
      ]
     },
     "execution_count": 25,
     "metadata": {},
     "output_type": "execute_result"
    }
   ],
   "source": [
    "new_array / 2"
   ]
  },
  {
   "cell_type": "code",
   "execution_count": 26,
   "id": "4138d489-9567-47cd-9dde-04923c287033",
   "metadata": {},
   "outputs": [
    {
     "data": {
      "text/plain": [
       "array([ 0,  1,  4,  9, 16, 25])"
      ]
     },
     "execution_count": 26,
     "metadata": {},
     "output_type": "execute_result"
    }
   ],
   "source": [
    "new_array**2"
   ]
  },
  {
   "cell_type": "code",
   "execution_count": 27,
   "id": "825d9fa5-9b4b-4555-a4fb-35a4f81bd58d",
   "metadata": {},
   "outputs": [
    {
     "data": {
      "text/plain": [
       "5"
      ]
     },
     "execution_count": 27,
     "metadata": {},
     "output_type": "execute_result"
    }
   ],
   "source": [
    "new_array.max()"
   ]
  },
  {
   "cell_type": "code",
   "execution_count": 28,
   "id": "a80a0356-7030-4484-bcd9-ac1dfa810a3f",
   "metadata": {},
   "outputs": [
    {
     "data": {
      "text/plain": [
       "0"
      ]
     },
     "execution_count": 28,
     "metadata": {},
     "output_type": "execute_result"
    }
   ],
   "source": [
    "new_array.min()"
   ]
  },
  {
   "cell_type": "code",
   "execution_count": 29,
   "id": "620e4726-1dc9-4211-9616-d27e509f3081",
   "metadata": {},
   "outputs": [
    {
     "data": {
      "text/plain": [
       "array([0.        , 1.        , 1.41421356, 1.73205081, 2.        ,\n",
       "       2.23606798])"
      ]
     },
     "execution_count": 29,
     "metadata": {},
     "output_type": "execute_result"
    }
   ],
   "source": [
    "np.sqrt(new_array)"
   ]
  },
  {
   "cell_type": "code",
   "execution_count": 30,
   "id": "979e1195-685c-43e1-9fce-632213b15d6b",
   "metadata": {},
   "outputs": [
    {
     "data": {
      "text/plain": [
       "array([  1.        ,   2.71828183,   7.3890561 ,  20.08553692,\n",
       "        54.59815003, 148.4131591 ])"
      ]
     },
     "execution_count": 30,
     "metadata": {},
     "output_type": "execute_result"
    }
   ],
   "source": [
    "np.exp(new_array)"
   ]
  },
  {
   "cell_type": "code",
   "execution_count": 31,
   "id": "c35e548b-52bd-4490-bc9a-1f44b0f4bde3",
   "metadata": {},
   "outputs": [],
   "source": [
    "#array_name,argmax() here arg reperesents the index of maximum value"
   ]
  },
  {
   "cell_type": "code",
   "execution_count": 32,
   "id": "26a8d110-5a0e-4346-9b4d-54c6b4f96fd8",
   "metadata": {},
   "outputs": [
    {
     "data": {
      "text/plain": [
       "array([83, 73, 22, 69, 16, 92, 93, 14, 23, 22])"
      ]
     },
     "execution_count": 32,
     "metadata": {},
     "output_type": "execute_result"
    }
   ],
   "source": [
    "arr = np.random.randint(10,100,10)\n",
    "arr"
   ]
  },
  {
   "cell_type": "code",
   "execution_count": 33,
   "id": "0aba180e-b13b-4d63-a755-231278b21110",
   "metadata": {},
   "outputs": [
    {
     "data": {
      "text/plain": [
       "6"
      ]
     },
     "execution_count": 33,
     "metadata": {},
     "output_type": "execute_result"
    }
   ],
   "source": [
    "arr.argmax()"
   ]
  },
  {
   "cell_type": "code",
   "execution_count": 34,
   "id": "e6b1d021-0cd3-4f1c-a8dd-3fdaa5359ab1",
   "metadata": {},
   "outputs": [
    {
     "data": {
      "text/plain": [
       "7"
      ]
     },
     "execution_count": 34,
     "metadata": {},
     "output_type": "execute_result"
    }
   ],
   "source": [
    "arr.argmin()"
   ]
  },
  {
   "cell_type": "code",
   "execution_count": null,
   "id": "68f628af-2927-4c08-9f03-678fef648865",
   "metadata": {},
   "outputs": [],
   "source": []
  }
 ],
 "metadata": {
  "kernelspec": {
   "display_name": "Python 3 (ipykernel)",
   "language": "python",
   "name": "python3"
  },
  "language_info": {
   "codemirror_mode": {
    "name": "ipython",
    "version": 3
   },
   "file_extension": ".py",
   "mimetype": "text/x-python",
   "name": "python",
   "nbconvert_exporter": "python",
   "pygments_lexer": "ipython3",
   "version": "3.11.5"
  }
 },
 "nbformat": 4,
 "nbformat_minor": 5
}
