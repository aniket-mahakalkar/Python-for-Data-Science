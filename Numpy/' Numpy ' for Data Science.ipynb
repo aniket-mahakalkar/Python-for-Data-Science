{
 "cells": [
  {
   "cell_type": "markdown",
   "id": "6358899e-3d34-43c4-8018-f0015d44b123",
   "metadata": {},
   "source": [
    "# Numpy for Data Science"
   ]
  },
  {
   "cell_type": "markdown",
   "id": "3f70efe5-4a9b-42b0-abde-437df7f242fe",
   "metadata": {},
   "source": [
    "[Numpy](https://numpy.org/) is a Linear Algebra Library for Python . Numpy as one of the main building blocks in the PyData Ecosystem.\n",
    "\n",
    "We use Numpy to work with arrays in python.\n",
    "Numpy provides a high-performance multidimensional array object and tools for working with these arrays ."
   ]
  },
  {
   "cell_type": "markdown",
   "id": "fe7fc6ac-d12d-4f66-9187-05910a540587",
   "metadata": {},
   "source": [
    "# Creating Numpy array using List "
   ]
  },
  {
   "cell_type": "code",
   "execution_count": 1,
   "id": "76d5b4a2-b151-49f2-8f59-44c27bf33f4a",
   "metadata": {},
   "outputs": [],
   "source": [
    "list = [1,2,3]"
   ]
  },
  {
   "cell_type": "code",
   "execution_count": 2,
   "id": "55acfda8-e702-4365-b1e6-cfd57b755221",
   "metadata": {},
   "outputs": [
    {
     "data": {
      "text/plain": [
       "[1, 2, 3]"
      ]
     },
     "execution_count": 2,
     "metadata": {},
     "output_type": "execute_result"
    }
   ],
   "source": [
    "list"
   ]
  },
  {
   "cell_type": "code",
   "execution_count": 3,
   "id": "52b78885-0cb6-4588-9c8f-da4b552c6f7f",
   "metadata": {},
   "outputs": [],
   "source": [
    "import numpy as np"
   ]
  },
  {
   "cell_type": "code",
   "execution_count": 4,
   "id": "85a197f0-bd15-4547-9ae3-58daf2e91547",
   "metadata": {},
   "outputs": [
    {
     "data": {
      "text/plain": [
       "array([1, 2, 3])"
      ]
     },
     "execution_count": 4,
     "metadata": {},
     "output_type": "execute_result"
    }
   ],
   "source": [
    "np.array(list)"
   ]
  },
  {
   "cell_type": "markdown",
   "id": "3a7ab36f-362d-411a-8c83-93cee312f4c0",
   "metadata": {},
   "source": [
    "# Note \n",
    "Numpy arrays have vectors and matrices :\n",
    "Vectors are  1-d arrays and matrices are 2-d arrays."
   ]
  },
  {
   "cell_type": "code",
   "execution_count": 5,
   "id": "435cef17-3b0d-4d58-90f9-a2935f5b5745",
   "metadata": {},
   "outputs": [],
   "source": [
    "# 2d array\n",
    "\n",
    "matrix = [[1,2,3],[4,5,6],[7,8,9]]"
   ]
  },
  {
   "cell_type": "code",
   "execution_count": 6,
   "id": "e9809f7b-f8c1-4609-9719-362785e5b62e",
   "metadata": {},
   "outputs": [
    {
     "data": {
      "text/plain": [
       "array([[1, 2, 3],\n",
       "       [4, 5, 6],\n",
       "       [7, 8, 9]])"
      ]
     },
     "execution_count": 6,
     "metadata": {},
     "output_type": "execute_result"
    }
   ],
   "source": [
    "np.array(matrix)"
   ]
  },
  {
   "cell_type": "markdown",
   "id": "dcf74cc3-d4d4-43e1-ab4c-bed0427c9fcd",
   "metadata": {},
   "source": [
    "# arange function \n",
    "arange((start), (stop), (step), dtype=None, *, like=None)\n",
    "\n",
    "Return evenly spaced values within a given interval."
   ]
  },
  {
   "cell_type": "code",
   "execution_count": 7,
   "id": "4e352117-8949-4895-b793-a661e041112b",
   "metadata": {},
   "outputs": [
    {
     "data": {
      "text/plain": [
       "array([0, 1, 2, 3, 4, 5, 6, 7, 8, 9])"
      ]
     },
     "execution_count": 7,
     "metadata": {},
     "output_type": "execute_result"
    }
   ],
   "source": [
    "np.arange(0,10)"
   ]
  },
  {
   "cell_type": "code",
   "execution_count": 8,
   "id": "1e02d094-fe25-4bcc-b04a-c12166f2d17c",
   "metadata": {},
   "outputs": [
    {
     "data": {
      "text/plain": [
       "array([ 0,  3,  6,  9, 12])"
      ]
     },
     "execution_count": 8,
     "metadata": {},
     "output_type": "execute_result"
    }
   ],
   "source": [
    "np.arange(0,15,3)"
   ]
  },
  {
   "cell_type": "markdown",
   "id": "d72f35b8-c77c-4184-b4cd-a9386f4348f8",
   "metadata": {},
   "source": [
    "# zeros/ones function\n",
    "return the array of 0's/1's "
   ]
  },
  {
   "cell_type": "code",
   "execution_count": 9,
   "id": "efb98f7a-9483-4c26-95fc-97da3e9d7076",
   "metadata": {},
   "outputs": [
    {
     "data": {
      "text/plain": [
       "array([0., 0., 0.])"
      ]
     },
     "execution_count": 9,
     "metadata": {},
     "output_type": "execute_result"
    }
   ],
   "source": [
    "np.zeros(3)"
   ]
  },
  {
   "cell_type": "code",
   "execution_count": 10,
   "id": "f4bde544-b1f8-4eab-aa10-4f537147d8bd",
   "metadata": {},
   "outputs": [
    {
     "data": {
      "text/plain": [
       "array([[0., 0., 0., 0.],\n",
       "       [0., 0., 0., 0.],\n",
       "       [0., 0., 0., 0.]])"
      ]
     },
     "execution_count": 10,
     "metadata": {},
     "output_type": "execute_result"
    }
   ],
   "source": [
    "#(single row)\n",
    "#((rows,columns))\n",
    "np.zeros((3,4))"
   ]
  },
  {
   "cell_type": "code",
   "execution_count": 11,
   "id": "d2d59cdb-1cc9-42de-a3ea-60af2058d185",
   "metadata": {},
   "outputs": [
    {
     "data": {
      "text/plain": [
       "array([[1., 1., 1., 1., 1.],\n",
       "       [1., 1., 1., 1., 1.],\n",
       "       [1., 1., 1., 1., 1.],\n",
       "       [1., 1., 1., 1., 1.],\n",
       "       [1., 1., 1., 1., 1.]])"
      ]
     },
     "execution_count": 11,
     "metadata": {},
     "output_type": "execute_result"
    }
   ],
   "source": [
    "np.ones((5,5))"
   ]
  },
  {
   "cell_type": "markdown",
   "id": "e3922ba1-d55d-4e93-8bdc-44a683605ef5",
   "metadata": {},
   "source": [
    "# linspace() function\n",
    "\n",
    "Return evenly spaced numbers over a specified interval.\n",
    "(start , stop , in_between_points)"
   ]
  },
  {
   "cell_type": "code",
   "execution_count": 12,
   "id": "049fe309-c1f3-486e-a102-7bb4bae7911b",
   "metadata": {},
   "outputs": [
    {
     "data": {
      "text/plain": [
       "array([3. , 3.4, 3.8, 4.2, 4.6, 5. ])"
      ]
     },
     "execution_count": 12,
     "metadata": {},
     "output_type": "execute_result"
    }
   ],
   "source": [
    "np.linspace(3,5,6)"
   ]
  },
  {
   "cell_type": "code",
   "execution_count": 13,
   "id": "2a116a21-5580-4c77-b05d-4a6e4fde089c",
   "metadata": {},
   "outputs": [
    {
     "data": {
      "text/plain": [
       "array([[1., 0., 0., 0.],\n",
       "       [0., 1., 0., 0.],\n",
       "       [0., 0., 1., 0.],\n",
       "       [0., 0., 0., 1.]])"
      ]
     },
     "execution_count": 13,
     "metadata": {},
     "output_type": "execute_result"
    }
   ],
   "source": [
    "#indentity matrix\n",
    "\n",
    "np.eye(4)"
   ]
  },
  {
   "cell_type": "markdown",
   "id": "26c940fb-4cfb-4f54-8aa9-0be126ac7921",
   "metadata": {},
   "source": [
    "# Random Module\n",
    "\n",
    "Python provides a built-in module called random for generation random numbers "
   ]
  },
  {
   "cell_type": "code",
   "execution_count": 14,
   "id": "1fc0ed1e-4981-45dd-96ac-0252a357e9f2",
   "metadata": {},
   "outputs": [],
   "source": [
    "#random.randn(n): This function generates a 'n' random floating-point number between 0.0 (inclusive) and 1.0 (exclusive)."
   ]
  },
  {
   "cell_type": "code",
   "execution_count": 15,
   "id": "92eecd58-3b3c-42ed-a4ab-388523ee56ca",
   "metadata": {},
   "outputs": [
    {
     "data": {
      "text/plain": [
       "array([0.34838689, 0.77307449, 0.79296988, 0.79423159, 0.81627294,\n",
       "       0.86276761, 0.4927361 , 0.06445344, 0.02138307, 0.49538402])"
      ]
     },
     "execution_count": 15,
     "metadata": {},
     "output_type": "execute_result"
    }
   ],
   "source": [
    "np.random.rand(10)"
   ]
  },
  {
   "cell_type": "code",
   "execution_count": 16,
   "id": "1adc5d56-d7a4-4e28-8ae1-43b726120a34",
   "metadata": {},
   "outputs": [],
   "source": [
    "#random.randn() : Generates random samples from the standard normal distribution (also called the Gaussian distribution).\n",
    "#This distribution has a mean of 0 and a variance of 1."
   ]
  },
  {
   "cell_type": "code",
   "execution_count": 17,
   "id": "d7e8d3aa-d827-4e5c-ac01-16e1826feaa4",
   "metadata": {},
   "outputs": [
    {
     "data": {
      "text/plain": [
       "array([-2.12367877,  0.31703982, -1.30075373,  0.12109605,  0.22058721])"
      ]
     },
     "execution_count": 17,
     "metadata": {},
     "output_type": "execute_result"
    }
   ],
   "source": [
    "np.random.randn(5)"
   ]
  },
  {
   "cell_type": "code",
   "execution_count": 18,
   "id": "b7bc2246-4638-46c6-abd5-5872c5384694",
   "metadata": {},
   "outputs": [],
   "source": [
    "#random.randint(a, b): Generates a random integer between two integers (a and b)"
   ]
  },
  {
   "cell_type": "code",
   "execution_count": 19,
   "id": "63dda9fd-156b-436e-93ec-69ff3eb96b22",
   "metadata": {},
   "outputs": [
    {
     "data": {
      "text/plain": [
       "8"
      ]
     },
     "execution_count": 19,
     "metadata": {},
     "output_type": "execute_result"
    }
   ],
   "source": [
    "np.random.randint(6,10)"
   ]
  },
  {
   "cell_type": "code",
   "execution_count": 20,
   "id": "aa9151d3-bc0b-4731-8cbc-ee2c4a7abcb9",
   "metadata": {},
   "outputs": [
    {
     "data": {
      "text/plain": [
       "array([ 2, 33, 48, 37,  5, 24])"
      ]
     },
     "execution_count": 20,
     "metadata": {},
     "output_type": "execute_result"
    }
   ],
   "source": [
    "np.random.randint(1,50,6)"
   ]
  },
  {
   "cell_type": "code",
   "execution_count": null,
   "id": "b3023bd0-d16e-4462-8189-392b3812388b",
   "metadata": {},
   "outputs": [],
   "source": []
  }
 ],
 "metadata": {
  "kernelspec": {
   "display_name": "Python 3 (ipykernel)",
   "language": "python",
   "name": "python3"
  },
  "language_info": {
   "codemirror_mode": {
    "name": "ipython",
    "version": 3
   },
   "file_extension": ".py",
   "mimetype": "text/x-python",
   "name": "python",
   "nbconvert_exporter": "python",
   "pygments_lexer": "ipython3",
   "version": "3.11.5"
  }
 },
 "nbformat": 4,
 "nbformat_minor": 5
}
